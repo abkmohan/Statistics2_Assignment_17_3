{
 "cells": [
  {
   "cell_type": "code",
   "execution_count": 9,
   "metadata": {},
   "outputs": [
    {
     "name": "stdout",
     "output_type": "stream",
     "text": [
      "P(Both Red) = 0.13\n",
      "P(Both Black) = 0.33\n",
      "P(RedBlack Combination) = 0.53\n"
     ]
    }
   ],
   "source": [
    "#Course: Data Science Masters\n",
    "#Title: Assignment 17.3         \n",
    "#Tool: Jupyter notebook \n",
    "#Author: Krishna A\n",
    "#Date: 20-05-2018 (DD/MM/YYYY)\n",
    "\n",
    "#Problem Statement \n",
    "#  Two balls are drawn at random in succession without replacement from an urn\n",
    "#  containing 4 red balls and 6 black balls.\n",
    "#  Find the probabilities of all the possible outcomes.\n",
    "\n",
    "iReds = 4\n",
    "iBlacks = 6\n",
    "iTotalBalls = iReds + iBlacks\n",
    "\n",
    "'''\n",
    "pRR = Probability(Red & Red)\n",
    "pRB_BR = Probability(Black & Red)\n",
    "pBB = Probability(Black & Black)\n",
    "'''\n",
    "(6/10 * 4/9) + (4/10 * 6/9) \n",
    "\n",
    "pRR = (iReds/iTotalBalls) * ((iReds-1)/(iTotalBalls-1))    #Both balls are Red\n",
    "pBB = (iBlacks/iTotalBalls) * ((iBlacks-1)/(iTotalBalls-1))         #Both balls are Black\n",
    "pRB_BR = ((iReds/iTotalBalls) * ((iBlacks)/(iTotalBalls-1))) + \\\n",
    "        (iBlacks/iTotalBalls) * ((iReds)/(iTotalBalls-1)) #First ball is Red/Black and second ball is Black/Red #\n",
    "\n",
    "\n",
    "print(\"P(Both Red) =\", format(pRR, '.2f'))\n",
    "print(\"P(Both Black) =\", format(pBB, '.2f'))\n",
    "print(\"P(RedBlack Combination) =\", format(pRB_BR, '.2f'))"
   ]
  },
  {
   "cell_type": "code",
   "execution_count": null,
   "metadata": {
    "collapsed": true
   },
   "outputs": [],
   "source": []
  }
 ],
 "metadata": {
  "kernelspec": {
   "display_name": "Python 3",
   "language": "python",
   "name": "python3"
  },
  "language_info": {
   "codemirror_mode": {
    "name": "ipython",
    "version": 3
   },
   "file_extension": ".py",
   "mimetype": "text/x-python",
   "name": "python",
   "nbconvert_exporter": "python",
   "pygments_lexer": "ipython3",
   "version": "3.6.3"
  }
 },
 "nbformat": 4,
 "nbformat_minor": 2
}
